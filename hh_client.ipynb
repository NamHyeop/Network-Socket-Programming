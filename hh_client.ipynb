{
 "cells": [
  {
   "cell_type": "markdown",
   "metadata": {
    "colab_type": "text",
    "id": "lcvr7lTcR3Tb"
   },
   "source": [
    "# 서버의 시각을 읽는 클라이언트\n",
    "- 클라이언트를 여러번 실행해본다.\n",
    "\n",
    "<img src=\"\n",
    "https://www.dropbox.com/s/7feui8zwku0z0mp/%EC%8A%A4%ED%81%AC%EB%A6%B0%EC%83%B7%202019-10-05%20%EC%98%A4%ED%9B%84%207.29.43.jpg?raw=1\" width=\"500\">\n"
   ]
  },
  {
   "cell_type": "code",
   "execution_count": 1,
   "metadata": {
    "colab": {
     "base_uri": "https://localhost:8080/",
     "height": 53
    },
    "colab_type": "code",
    "executionInfo": {
     "elapsed": 666,
     "status": "ok",
     "timestamp": 1566110859999,
     "user": {
      "displayName": "김화종",
      "photoUrl": "https://lh4.googleusercontent.com/-sR-MVK_KsAg/AAAAAAAAAAI/AAAAAAAALbE/3e3Eq9nrGuw/s64/photo.jpg",
      "userId": "17353049580175403985"
     },
     "user_tz": -540
    },
    "id": "G9nLm0_RVYsP",
    "outputId": "b7d9148f-d5b6-4ae9-82b7-de4c73d349a6"
   },
   "outputs": [
    {
     "name": "stdout",
     "output_type": "stream",
     "text": [
      "DESKTOP-QMF6CE8\n",
      "192.168.0.16\n",
      "서버의 시각 Sun Oct 18 00:23:15 2020\r\n",
      "\n"
     ]
    }
   ],
   "source": [
    "# 서버의 시간 얻기\n",
    "import socket\n",
    "s = socket.socket(socket.AF_INET, socket.SOCK_STREAM) \n",
    "\n",
    "host= socket.gethostname()                           \n",
    "server_port = 9999 #port는 아까 적은 상대방 번호를 적어준것\n",
    "print(host)\n",
    "print(socket.gethostbyname(host))\n",
    "\n",
    "s.connect((host, server_port))  #현재 위 그림에서 connection setup 단계임,Host를 다른 컴퓨터로 연결시켜주고 싶으면 host변수 위치를 너가 원하는 ip를 적어주면 된다. 예를들 '192.~'                             \n",
    "\n",
    "tm = s.recv(1024)   #아까 서버에서 보내주는 send를 받을 준비하기 위해 존재하는 문장                     \n",
    "\n",
    "s.close()\n",
    "\n",
    "print(\"서버의 시각 %s\" % tm.decode('ascii'))"
   ]
  },
  {
   "cell_type": "markdown",
   "metadata": {
    "colab_type": "text",
    "id": "NQ0i2WS-lFDe"
   },
   "source": [
    "# 에코 클라이언트"
   ]
  },
  {
   "cell_type": "code",
   "execution_count": 7,
   "metadata": {
    "colab": {
     "base_uri": "https://localhost:8080/",
     "height": 35
    },
    "colab_type": "code",
    "executionInfo": {
     "elapsed": 780,
     "status": "ok",
     "timestamp": 1566112532306,
     "user": {
      "displayName": "김화종",
      "photoUrl": "https://lh4.googleusercontent.com/-sR-MVK_KsAg/AAAAAAAAAAI/AAAAAAAALbE/3e3Eq9nrGuw/s64/photo.jpg",
      "userId": "17353049580175403985"
     },
     "user_tz": -540
    },
    "id": "zt02CBCSYfR9",
    "outputId": "4a4cd878-56f6-4c8c-9457-a0855f197905"
   },
   "outputs": [
    {
     "name": "stdout",
     "output_type": "stream",
     "text": [
      "Received b'ya fell'\n"
     ]
    }
   ],
   "source": [
    "# TCP 에코 클라이언트\n",
    "import socket\n",
    "\n",
    "host = socket.gethostname()    \n",
    "port = 9998\n",
    "s = socket.socket(socket.AF_INET, socket.SOCK_STREAM)\n",
    "s.connect((host, port)) #다른 컴퓨터랑 연결할라면 host부분 바꿔줘야함\n",
    "s.sendall(b'ya fell') #서버측으로 핼로우워드를 보냄 B는 Byte언어라는걸 의미\n",
    "data = s.recv(1024) #상대방이 보낸건 받고\n",
    "s.close()#소켓 닫고\n",
    "print('Received', repr(data)) #받은게 뭔지 보자~"
   ]
  },
  {
   "cell_type": "code",
   "execution_count": 5,
   "metadata": {
    "colab": {
     "base_uri": "https://localhost:8080/",
     "height": 35
    },
    "colab_type": "code",
    "executionInfo": {
     "elapsed": 780,
     "status": "ok",
     "timestamp": 1566112532306,
     "user": {
      "displayName": "김화종",
      "photoUrl": "https://lh4.googleusercontent.com/-sR-MVK_KsAg/AAAAAAAAAAI/AAAAAAAALbE/3e3Eq9nrGuw/s64/photo.jpg",
      "userId": "17353049580175403985"
     },
     "user_tz": -540
    },
    "id": "zt02CBCSYfR9",
    "outputId": "4a4cd878-56f6-4c8c-9457-a0855f197905"
   },
   "outputs": [
    {
     "ename": "ConnectionResetError",
     "evalue": "[WinError 10054] 현재 연결은 원격 호스트에 의해 강제로 끊겼습니다",
     "output_type": "error",
     "traceback": [
      "\u001b[1;31m---------------------------------------------------------------------------\u001b[0m",
      "\u001b[1;31mConnectionResetError\u001b[0m                      Traceback (most recent call last)",
      "\u001b[1;32m<ipython-input-5-f6bc687f197c>\u001b[0m in \u001b[0;36m<module>\u001b[1;34m\u001b[0m\n\u001b[0;32m      8\u001b[0m \u001b[1;31m#UDP는 필요없음s.connect((host, port)) #다른 컴퓨터랑 연결할라면 host부분 바꿔줘야함\u001b[0m\u001b[1;33m\u001b[0m\u001b[1;33m\u001b[0m\u001b[1;33m\u001b[0m\u001b[0m\n\u001b[0;32m      9\u001b[0m \u001b[0ms\u001b[0m\u001b[1;33m.\u001b[0m\u001b[0msendto\u001b[0m\u001b[1;33m(\u001b[0m\u001b[1;34mb'Hello I am UDP SENDER'\u001b[0m\u001b[1;33m,\u001b[0m \u001b[1;33m(\u001b[0m\u001b[0mhost\u001b[0m\u001b[1;33m,\u001b[0m \u001b[0mport\u001b[0m\u001b[1;33m)\u001b[0m\u001b[1;33m)\u001b[0m \u001b[1;31m#서버측으로 핼로우워드를 보냄 B는 Byte언어라는걸 의미\u001b[0m\u001b[1;33m\u001b[0m\u001b[1;33m\u001b[0m\u001b[0m\n\u001b[1;32m---> 10\u001b[1;33m \u001b[0mdata\u001b[0m\u001b[1;33m,\u001b[0m \u001b[0maddr\u001b[0m \u001b[1;33m=\u001b[0m \u001b[0ms\u001b[0m\u001b[1;33m.\u001b[0m\u001b[0mrecvfrom\u001b[0m\u001b[1;33m(\u001b[0m\u001b[1;36m1024\u001b[0m\u001b[1;33m)\u001b[0m \u001b[1;31m#상대방이 보낸건 받고\u001b[0m\u001b[1;33m\u001b[0m\u001b[1;33m\u001b[0m\u001b[0m\n\u001b[0m\u001b[0;32m     11\u001b[0m \u001b[0mprint\u001b[0m\u001b[1;33m(\u001b[0m\u001b[1;34m'Received data'\u001b[0m\u001b[1;33m,\u001b[0m \u001b[0mdata\u001b[0m\u001b[1;33m)\u001b[0m\u001b[1;33m\u001b[0m\u001b[1;33m\u001b[0m\u001b[0m\n\u001b[0;32m     12\u001b[0m \u001b[0mprint\u001b[0m\u001b[1;33m(\u001b[0m\u001b[1;34m'Received addr'\u001b[0m\u001b[1;33m,\u001b[0m\u001b[0maddr\u001b[0m\u001b[1;33m)\u001b[0m\u001b[1;33m\u001b[0m\u001b[1;33m\u001b[0m\u001b[0m\n",
      "\u001b[1;31mConnectionResetError\u001b[0m: [WinError 10054] 현재 연결은 원격 호스트에 의해 강제로 끊겼습니다"
     ]
    }
   ],
   "source": [
    "# UDP 에코 클라이언트\n",
    "import socket\n",
    "\n",
    "host = socket.gethostname()    \n",
    "\n",
    "port = 9998\n",
    "s = socket.socket(socket.AF_INET, socket.SOCK_DGRAM)\n",
    "#UDP는 필요없음s.connect((host, port)) #다른 컴퓨터랑 연결할라면 host부분 바꿔줘야함\n",
    "s.sendto(b'Hello I am UDP SENDER', (host, port)) #서버측으로 핼로우워드를 보냄 B는 Byte언어라는걸 의미\n",
    "data, addr = s.recvfrom(1024) #상대방이 보낸건 받고\n",
    "print('Received data', data)\n",
    "print('Received addr',addr)\n",
    "s.close()#소켓 닫고"
   ]
  },
  {
   "cell_type": "code",
   "execution_count": null,
   "metadata": {},
   "outputs": [],
   "source": []
  },
  {
   "cell_type": "markdown",
   "metadata": {
    "colab_type": "text",
    "id": "KX-Mh_fzmHQl"
   },
   "source": [
    "# 파일 전송 클라이언트"
   ]
  },
  {
   "cell_type": "code",
   "execution_count": 15,
   "metadata": {
    "colab": {
     "base_uri": "https://localhost:8080/"
    },
    "colab_type": "code",
    "id": "9ZNxr7s7mKHd",
    "outputId": "e28b79d2-ad9b-483d-b447-72c2e794e866"
   },
   "outputs": [
    {
     "name": "stdout",
     "output_type": "stream",
     "text": [
      "처음 만든 클라이언트 소켓 번호(s) <socket.socket fd=1116, family=AddressFamily.AF_INET, type=SocketKind.SOCK_STREAM, proto=0>\n",
      "수신용 파일 번호(f) <_io.BufferedWriter name='received_file'>\n",
      "data=%s b'This is the first line #\\xeb\\x82\\xb4\\xec\\x9a\\xa9\\xeb\\x93\\xa4\\xec\\x9d\\xb4 writefile\\xec\\x95\\x88\\xec\\x97\\x90 \\xeb\\x93\\xa4\\xec\\x96\\xb4\\xea\\xb0\\x84\\xeb\\x8b\\xa4\\r\\nThis is the sescond line\\r\\n'\n",
      "connection closed\n"
     ]
    }
   ],
   "source": [
    "import socket                   # Import socket module\n",
    "\n",
    "s = socket.socket()             # Create a socket object\n",
    "host = socket.gethostname()     # Get local machine name\n",
    "s_port = 9997                    # Reserve a port for your service.\n",
    "print('처음 만든 클라이언트 소켓 번호(s)',s)\n",
    "s.connect((host, s_port))\n",
    "s.send(b\"Hello server!, i am send\")\n",
    "\n",
    "with open('received_file', 'wb') as f:\n",
    "    print('수신용 파일 번호(f)',f)\n",
    "    data = s.recv(1024)\n",
    "    print('data=%s', data)\n",
    "    f.write(data)\n",
    "f.close() #file을 닫는것\n",
    "s.close() #socket을 닫는 것\n",
    "print('connection closed')\n"
   ]
  },
  {
   "cell_type": "code",
   "execution_count": 16,
   "metadata": {
    "colab": {},
    "colab_type": "code",
    "id": "n6Y4fWn2mgFW"
   },
   "outputs": [
    {
     "name": "stdout",
     "output_type": "stream",
     "text": [
      "This is the first line #�궡�슜�뱾�씠 writefile�븞�뿉 �뱾�뼱媛꾨떎\n",
      "This is the sescond line\n"
     ]
    }
   ],
   "source": [
    "!type received_file #받은 파일의 내용을 따로 확인 가능"
   ]
  }
 ],
 "metadata": {
  "colab": {
   "collapsed_sections": [],
   "name": "hh_client.ipynb",
   "provenance": [],
   "version": "0.3.2"
  },
  "kernelspec": {
   "display_name": "Python 3",
   "language": "python",
   "name": "python3"
  },
  "language_info": {
   "codemirror_mode": {
    "name": "ipython",
    "version": 3
   },
   "file_extension": ".py",
   "mimetype": "text/x-python",
   "name": "python",
   "nbconvert_exporter": "python",
   "pygments_lexer": "ipython3",
   "version": "3.8.3"
  }
 },
 "nbformat": 4,
 "nbformat_minor": 1
}
