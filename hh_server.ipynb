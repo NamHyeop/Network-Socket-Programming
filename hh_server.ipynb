{
 "cells": [
  {
   "cell_type": "markdown",
   "metadata": {
    "colab_type": "text",
    "id": "Uz4GqlVjRihs"
   },
   "source": [
    "# 현재 시각을 알려주는 서버\n",
    "### 서버는 계속해서 실행중이다. 정지하려면 Kernel에서 종료한다\n",
    "- socket.socket(): 소켓을 만든다\n",
    "- socket.bind(address): 소켓에 주소를 매핑한다\n",
    "- socket.listen(backlog): 연결요청을 기다린다.\n",
    "- socket.accept(): 연결을 수락한다.\n",
    "- socket.send(bytes[, flags]): 데이터를 보낸다 (리턴 값은 전송된 바이트 수)\n",
    "- socket.colse(): 소켓을 닫는다"
   ]
  },
  {
   "cell_type": "code",
   "execution_count": null,
   "metadata": {
    "colab": {
     "base_uri": "https://localhost:8080/",
     "height": 515
    },
    "colab_type": "code",
    "executionInfo": {
     "elapsed": 540312,
     "status": "error",
     "timestamp": 1566112461115,
     "user": {
      "displayName": "김화종",
      "photoUrl": "https://lh4.googleusercontent.com/-sR-MVK_KsAg/AAAAAAAAAAI/AAAAAAAALbE/3e3Eq9nrGuw/s64/photo.jpg",
      "userId": "17353049580175403985"
     },
     "user_tz": -540
    },
    "id": "VY_hvr2yS6O-",
    "outputId": "a2a76e62-7c65-4fc7-bbea-67e60f70ee92"
   },
   "outputs": [
    {
     "name": "stdout",
     "output_type": "stream",
     "text": [
      "DESKTOP-QMF6CE8\n",
      "192.168.0.16\n",
      "연결 요청 .... ('192.168.0.16', 8791)\n"
     ]
    }
   ],
   "source": [
    "import socket #import문                                         \n",
    "import time\n",
    "\n",
    "serversocket = socket.socket(#소켓을 만든다.\n",
    "    socket.AF_INET, socket.SOCK_STREAM) #AD_INET는 adrress famiily의 약자, AF선언이랑 소켓유형 2개해서 기본적으로 매개변수 2가지 들어간다.인터넷 주소를 따르겠다라는 의미,SOCK_STREAM은 TCP로(연결형) 만들겠다는 의미\n",
    "                                        #비연결형은 sock_degram으로\n",
    "host = socket.gethostname() #현재 시행되고 있는 hostname을 gethostname이 얻어옴()\n",
    "print(host)#hostname 출력\n",
    "print(socket.gethostbyname(host))#host IP는 gethostbyname()이 가져온다\n",
    "port = 9999 #9999는 걍 아무렇게 설정한거, 앞으로 9999고객이 요청하면 요청받겠다.                             \n",
    "serversocket.bind((host, port))   #이 시스템에서 만든 서버소켓을 bind로 연결시키겠다.                               \n",
    "\n",
    "# 5개까지 접속 대기\n",
    "serversocket.listen(5)                                           \n",
    "\n",
    "while True:\n",
    "    #누군가 포트번호9999로 오면 밑에가 실행이된다. 결과값은 그사람의 주소와 소켓 2가지가 나옴\n",
    "    clientsocket,addr = serversocket.accept()      #accept문에서 대기하다가 실행되면 3-way-handshake를 실행함\n",
    "    print(\"연결 요청 .... %s\" % str(addr))#addr은 상대방 주소\n",
    "    currentTime = time.ctime(time.time()) + \"\\r\\n\" #time.ctime(time.time())으로 현재시간 얻어오기\n",
    "    clientsocket.send(currentTime.encode('ascii'))#위에서 보면 clientsocket에 상대방 정보가 담겨있으므로 그 정보로 전송한다,데이터를 송신시 ascil로 보내야 상대방이 인식하기 쉬워서 넣는거임\n",
    "    clientsocket.close()"
   ]
  },
  {
   "cell_type": "markdown",
   "metadata": {
    "colab_type": "text",
    "id": "6iWanmr8RhUA"
   },
   "source": [
    "# 에코 서버\n",
    "- 받은 데이터를 다시 전송한다"
   ]
  },
  {
   "cell_type": "code",
   "execution_count": 1,
   "metadata": {
    "colab": {
     "base_uri": "https://localhost:8080/",
     "height": 35
    },
    "colab_type": "code",
    "executionInfo": {
     "elapsed": 5602,
     "status": "ok",
     "timestamp": 1566112532432,
     "user": {
      "displayName": "김화종",
      "photoUrl": "https://lh4.googleusercontent.com/-sR-MVK_KsAg/AAAAAAAAAAI/AAAAAAAALbE/3e3Eq9nrGuw/s64/photo.jpg",
      "userId": "17353049580175403985"
     },
     "user_tz": -540
    },
    "id": "o7O49SgZTW0j",
    "outputId": "3b0fa7a1-ddcd-46f1-c28b-0853be79449a"
   },
   "outputs": [
    {
     "name": "stdout",
     "output_type": "stream",
     "text": [
      "Connected by ('192.168.0.16', 12990)\n"
     ]
    }
   ],
   "source": [
    "#TCP 에코 서버\n",
    "import socket\n",
    "\n",
    "s = socket.socket(socket.AF_INET, socket.SOCK_STREAM)\n",
    "host = ''        # 모든 입력을 받아들인다.\n",
    "port = 9998     # Arbitrary non-privileged port\n",
    "s.bind((host, port))\n",
    "s.listen(1) #한 번에 한 개씩만 접속을 받겠다, 많은 사람들이 접속한다면 숫자를 올려줘야함\n",
    "conn, addr = s.accept()\n",
    "#accept문에서 대기, 사실 aceept문을 실행하면 socket이 하나 더 생긴다,위에서 선언한 소켓은 계속 들어오는 소켓을 받아 들이기 위한 것이고\n",
    "#또다른 소켓은 다른 통신을 할 소켓이 또 필요하므로 하나 더 만들어 주는거다.(accept로) 지금은 conn이 새로 들어오는 소켓이랑 연락하는 변수역할을함\n",
    "print('Connected by', addr)\n",
    "while True:\n",
    "    data = conn.recv(1024) #data를 받고\n",
    "    if not data: break #data없으면 나가\n",
    "    conn.sendall(data) #도로 밖으로 내보내는것\n",
    "conn.close()"
   ]
  },
  {
   "cell_type": "code",
   "execution_count": 4,
   "metadata": {
    "colab": {
     "base_uri": "https://localhost:8080/",
     "height": 35
    },
    "colab_type": "code",
    "executionInfo": {
     "elapsed": 5602,
     "status": "ok",
     "timestamp": 1566112532432,
     "user": {
      "displayName": "김화종",
      "photoUrl": "https://lh4.googleusercontent.com/-sR-MVK_KsAg/AAAAAAAAAAI/AAAAAAAALbE/3e3Eq9nrGuw/s64/photo.jpg",
      "userId": "17353049580175403985"
     },
     "user_tz": -540
    },
    "id": "o7O49SgZTW0j",
    "outputId": "3b0fa7a1-ddcd-46f1-c28b-0853be79449a"
   },
   "outputs": [
    {
     "name": "stdout",
     "output_type": "stream",
     "text": [
      "data:  b'Hello I am UDP SENDER'\n",
      "address:  ('192.168.0.16', 63653)\n"
     ]
    },
    {
     "ename": "OSError",
     "evalue": "[WinError 10038] 소켓 이외의 개체에 작업을 시도했습니다",
     "output_type": "error",
     "traceback": [
      "\u001b[1;31m---------------------------------------------------------------------------\u001b[0m",
      "\u001b[1;31mOSError\u001b[0m                                   Traceback (most recent call last)",
      "\u001b[1;32m<ipython-input-4-f0daf0b37cf8>\u001b[0m in \u001b[0;36m<module>\u001b[1;34m\u001b[0m\n\u001b[0;32m     16\u001b[0m \u001b[1;33m\u001b[0m\u001b[0m\n\u001b[0;32m     17\u001b[0m \u001b[1;32mwhile\u001b[0m \u001b[1;32mTrue\u001b[0m\u001b[1;33m:\u001b[0m\u001b[1;33m\u001b[0m\u001b[1;33m\u001b[0m\u001b[0m\n\u001b[1;32m---> 18\u001b[1;33m     \u001b[0mdata\u001b[0m\u001b[1;33m,\u001b[0m \u001b[0maddr\u001b[0m \u001b[1;33m=\u001b[0m \u001b[0ms\u001b[0m\u001b[1;33m.\u001b[0m\u001b[0mrecvfrom\u001b[0m\u001b[1;33m(\u001b[0m\u001b[1;36m1024\u001b[0m\u001b[1;33m)\u001b[0m \u001b[1;31m#data를 받고, TCP와 다르게 recvfrom이란걸 사용함, TCP와 다르게 연결을 한게 아니라 주소를 매번 출력해줘야함\u001b[0m\u001b[1;33m\u001b[0m\u001b[1;33m\u001b[0m\u001b[0m\n\u001b[0m\u001b[0;32m     19\u001b[0m     \u001b[0ms\u001b[0m\u001b[1;33m.\u001b[0m\u001b[0msendto\u001b[0m\u001b[1;33m(\u001b[0m\u001b[0mdata\u001b[0m\u001b[1;33m,\u001b[0m\u001b[0maddr\u001b[0m\u001b[1;33m)\u001b[0m \u001b[1;31m#도로 밖으로 내보내는것\u001b[0m\u001b[1;33m\u001b[0m\u001b[1;33m\u001b[0m\u001b[0m\n\u001b[0;32m     20\u001b[0m     \u001b[0mprint\u001b[0m\u001b[1;33m(\u001b[0m\u001b[1;34m'data: '\u001b[0m\u001b[1;33m,\u001b[0m \u001b[0mdata\u001b[0m\u001b[1;33m)\u001b[0m\u001b[1;33m\u001b[0m\u001b[1;33m\u001b[0m\u001b[0m\n",
      "\u001b[1;31mOSError\u001b[0m: [WinError 10038] 소켓 이외의 개체에 작업을 시도했습니다"
     ]
    }
   ],
   "source": [
    "\n",
    "import socket\n",
    "#UDP 에코 서버\n",
    "#위에는 TCP인데 그대로 복사해서 UDP로 바꿔보자\n",
    "\n",
    "s = socket.socket(socket.AF_INET, socket.SOCK_DGRAM) #data gram의 약자\n",
    "host = ''        # 모든 입력을 받아들인다.\n",
    "port = 9998     # Arbitrary non-privileged port\n",
    "s.bind((host, port))\n",
    "#UDP는 밑에 listen, aceept 다 필요없음,바로 데이터를 보내줘야 하기 때문에\n",
    "\n",
    "#s.listen(1) #한 번에 한 개씩만 접속을 받겠다, 많은 사람들이 접속한다면 숫자를 올려줘야함\n",
    "#conn, addr = s.accept()\n",
    "#accept문에서 대기, 사실 aceept문을 실행하면 socket이 하나 더 생긴다,위에서 선언한 소켓은 계속 들어오는 소켓을 받아 들이기 위한 것이고\n",
    "#또다른 소켓은 다른 통신을 할 소켓이 또 필요하므로 하나 더 만들어 주는거다.(accept로) 지금은 conn이 새로 들어오는 소켓이랑 연락하는 변수역할을함\n",
    "#print('Connected by', addr)\n",
    "\n",
    "while True:\n",
    "    data, addr = s.recvfrom(1024) #data를 받고, TCP와 다르게 recvfrom이란걸 사용함, TCP와 다르게 연결을 한게 아니라 주소를 매번 출력해줘야함\n",
    "    s.sendto(data,addr) #도로 밖으로 내보내는것\n",
    "    print('data: ', data)\n",
    "    print('address: ', addr)\n",
    "    s.close()"
   ]
  },
  {
   "cell_type": "code",
   "execution_count": 4,
   "metadata": {},
   "outputs": [
    {
     "name": "stdout",
     "output_type": "stream",
     "text": [
      "b'ya fell'\n"
     ]
    }
   ],
   "source": [
    "import socket\n",
    "\n",
    "tmp = socket.socket(socket.AF_INET,socket.SOCK_DGRAM)\n",
    "host=''\n",
    "port = 9998\n",
    "tmp.bind((host,port))\n",
    "\n",
    "while True:\n",
    "    data,addr = recvfrom(1024)\n",
    "    tmp.sendto(data,addr)\n",
    "conn.close()"
   ]
  },
  {
   "cell_type": "markdown",
   "metadata": {
    "colab_type": "text",
    "id": "LGI-gMUJlp-K"
   },
   "source": [
    "# 파일 전송 서버"
   ]
  },
  {
   "cell_type": "code",
   "execution_count": 4,
   "metadata": {
    "colab": {
     "base_uri": "https://localhost:8080/",
     "height": 35
    },
    "colab_type": "code",
    "executionInfo": {
     "elapsed": 757,
     "status": "ok",
     "timestamp": 1566112719374,
     "user": {
      "displayName": "김화종",
      "photoUrl": "https://lh4.googleusercontent.com/-sR-MVK_KsAg/AAAAAAAAAAI/AAAAAAAALbE/3e3Eq9nrGuw/s64/photo.jpg",
      "userId": "17353049580175403985"
     },
     "user_tz": -540
    },
    "id": "UIIdlASRlyuV",
    "outputId": "08641830-4121-41c9-df09-1ccf2f6ec6df"
   },
   "outputs": [
    {
     "name": "stdout",
     "output_type": "stream",
     "text": [
      "Overwriting mytext.txt\n"
     ]
    }
   ],
   "source": [
    "%%writefile mytext.txt\n",
    "This is the first line #내용들이 writefile안에 들어간다\n",
    "This is the second line"
   ]
  },
  {
   "cell_type": "code",
   "execution_count": 8,
   "metadata": {
    "colab": {
     "base_uri": "https://localhost:8080/",
     "height": 71
    },
    "colab_type": "code",
    "executionInfo": {
     "elapsed": 2962,
     "status": "ok",
     "timestamp": 1566112747656,
     "user": {
      "displayName": "김화종",
      "photoUrl": "https://lh4.googleusercontent.com/-sR-MVK_KsAg/AAAAAAAAAAI/AAAAAAAALbE/3e3Eq9nrGuw/s64/photo.jpg",
      "userId": "17353049580175403985"
     },
     "user_tz": -540
    },
    "id": "0XaqaXzYl7sC",
    "outputId": "814b0f31-a96d-4c1d-e28b-42253f9a9fc6"
   },
   "outputs": [
    {
     "name": "stdout",
     "output_type": "stream",
     "text": [
      "This is the first line #�궡�슜�뱾�씠 writefile�븞�뿉 �뱾�뼱媛꾨떎\n",
      "This is the sescond line\n"
     ]
    }
   ],
   "source": [
    "!type mytext.txt #파일 안의 내용을 보는 문장(윈도우는 type, linux는 cat, mac은 head)"
   ]
  },
  {
   "cell_type": "code",
   "execution_count": null,
   "metadata": {
    "colab": {
     "base_uri": "https://localhost:8080/",
     "height": 353
    },
    "colab_type": "code",
    "executionInfo": {
     "elapsed": 29609,
     "status": "error",
     "timestamp": 1566113132958,
     "user": {
      "displayName": "김화종",
      "photoUrl": "https://lh4.googleusercontent.com/-sR-MVK_KsAg/AAAAAAAAAAI/AAAAAAAALbE/3e3Eq9nrGuw/s64/photo.jpg",
      "userId": "17353049580175403985"
     },
     "user_tz": -540
    },
    "id": "nd54WRUdlr1i",
    "outputId": "7df05032-3ed8-4dab-8133-26b8573ae4f0"
   },
   "outputs": [
    {
     "name": "stdout",
     "output_type": "stream",
     "text": [
      "처음 만든 연결용 소켓 번호(s): <socket.socket fd=1068, family=AddressFamily.AF_INET, type=SocketKind.SOCK_STREAM, proto=0, laddr=('192.168.0.16', 9997)>\n",
      "Server listening....\n",
      "Got connection from ('192.168.0.16', 9868)\n",
      "새로 연결되는것을 매칭 시켜주기 위해 존재하는 소켓 (conn):  <socket.socket fd=1140, family=AddressFamily.AF_INET, type=SocketKind.SOCK_STREAM, proto=0, laddr=('192.168.0.16', 9997), raddr=('192.168.0.16', 9868)>\n",
      "Server received b'Hello server!, i am send'\n",
      "파일 내용 출력(f): <_io.BufferedReader name='mytext.txt'>\n",
      "Sent  b'This is the first line #\\xeb\\x82\\xb4\\xec\\x9a\\xa9\\xeb\\x93\\xa4\\xec\\x9d\\xb4 writefile\\xec\\x95\\x88\\xec\\x97\\x90 \\xeb\\x93\\xa4\\xec\\x96\\xb4\\xea\\xb0\\x84\\xeb\\x8b\\xa4\\r\\nThis is the sescond line\\r\\n'\n",
      "Done sending\n",
      "Got connection from ('192.168.0.16', 9896)\n",
      "새로 연결되는것을 매칭 시켜주기 위해 존재하는 소켓 (conn):  <socket.socket fd=1152, family=AddressFamily.AF_INET, type=SocketKind.SOCK_STREAM, proto=0, laddr=('192.168.0.16', 9997), raddr=('192.168.0.16', 9896)>\n",
      "Server received b'Hello server!, i am send'\n",
      "파일 내용 출력(f): <_io.BufferedReader name='mytext.txt'>\n",
      "Sent  b'This is the first line #\\xeb\\x82\\xb4\\xec\\x9a\\xa9\\xeb\\x93\\xa4\\xec\\x9d\\xb4 writefile\\xec\\x95\\x88\\xec\\x97\\x90 \\xeb\\x93\\xa4\\xec\\x96\\xb4\\xea\\xb0\\x84\\xeb\\x8b\\xa4\\r\\nThis is the sescond line\\r\\n'\n",
      "Done sending\n",
      "Got connection from ('192.168.0.16', 9898)\n",
      "새로 연결되는것을 매칭 시켜주기 위해 존재하는 소켓 (conn):  <socket.socket fd=1152, family=AddressFamily.AF_INET, type=SocketKind.SOCK_STREAM, proto=0, laddr=('192.168.0.16', 9997), raddr=('192.168.0.16', 9898)>\n",
      "Server received b'Hello server!, i am send'\n",
      "파일 내용 출력(f): <_io.BufferedReader name='mytext.txt'>\n",
      "Sent  b'This is the first line #\\xeb\\x82\\xb4\\xec\\x9a\\xa9\\xeb\\x93\\xa4\\xec\\x9d\\xb4 writefile\\xec\\x95\\x88\\xec\\x97\\x90 \\xeb\\x93\\xa4\\xec\\x96\\xb4\\xea\\xb0\\x84\\xeb\\x8b\\xa4\\r\\nThis is the sescond line\\r\\n'\n",
      "Done sending\n",
      "Got connection from ('192.168.0.16', 9899)\n",
      "새로 연결되는것을 매칭 시켜주기 위해 존재하는 소켓 (conn):  <socket.socket fd=1152, family=AddressFamily.AF_INET, type=SocketKind.SOCK_STREAM, proto=0, laddr=('192.168.0.16', 9997), raddr=('192.168.0.16', 9899)>\n",
      "Server received b'Hello server!, i am send'\n",
      "파일 내용 출력(f): <_io.BufferedReader name='mytext.txt'>\n",
      "Sent  b'This is the first line #\\xeb\\x82\\xb4\\xec\\x9a\\xa9\\xeb\\x93\\xa4\\xec\\x9d\\xb4 writefile\\xec\\x95\\x88\\xec\\x97\\x90 \\xeb\\x93\\xa4\\xec\\x96\\xb4\\xea\\xb0\\x84\\xeb\\x8b\\xa4\\r\\nThis is the sescond line\\r\\n'\n",
      "Done sending\n"
     ]
    }
   ],
   "source": [
    "import socket\n",
    "#위에 파일을 전송해줄것이다.\n",
    "s = socket.socket()\n",
    "host = socket.gethostname()\n",
    "port = 9997\n",
    "s.bind((host, port)) #bind는 찾아올수 있게 번호를 매칭 시키는 작업\n",
    "s.listen(5)          \n",
    "#print(s) #내부에서는 1172번으로 보이는거고 밖에서는 192.168.0.16으로 보이는것\n",
    "\n",
    "print('처음 만든 연결용 소켓 번호(s):', s)\n",
    "print('Server listening....')\n",
    "\n",
    "while True:\n",
    "    conn, addr = s.accept() #서버를 먼저 실행하면 여기서 대기하고 있다가 연결되면 전송함\n",
    "    print ('Got connection from', addr)\n",
    "    print('새로 연결되는것을 매칭 시켜주기 위해 존재하는 소켓 (conn): ', conn)\n",
    "    data = conn.recv(1024)\n",
    "    print('Server received', data)\n",
    "\n",
    "    filename='mytext.txt'\n",
    "    f = open(filename,'rb')\n",
    "    print('파일 내용 출력(f):', f)\n",
    "    l = f.read(1024) #읽은 데이터가 존재하면 0 이상이므로 밑에 조건문을 실행, 안에 숫자1이아니라 l임\n",
    "    while (l):\n",
    "       conn.send(l)\n",
    "       print('Sent ',repr(l))\n",
    "       l = f.read(1024) #0읽 때까지 잃겠다\n",
    "    f.close()\n",
    "\n",
    "    print('Done sending')\n",
    "    conn.close()"
   ]
  }
 ],
 "metadata": {
  "colab": {
   "collapsed_sections": [],
   "name": "hh_server.ipynb",
   "provenance": [],
   "version": "0.3.2"
  },
  "kernelspec": {
   "display_name": "Python 3",
   "language": "python",
   "name": "python3"
  },
  "language_info": {
   "codemirror_mode": {
    "name": "ipython",
    "version": 3
   },
   "file_extension": ".py",
   "mimetype": "text/x-python",
   "name": "python",
   "nbconvert_exporter": "python",
   "pygments_lexer": "ipython3",
   "version": "3.8.3"
  }
 },
 "nbformat": 4,
 "nbformat_minor": 1
}
